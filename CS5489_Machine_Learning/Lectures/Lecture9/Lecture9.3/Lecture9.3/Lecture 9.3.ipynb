{
 "cells": [
  {
   "cell_type": "markdown",
   "metadata": {
    "id": "kpE4QC7IZRsL"
   },
   "source": [
    "# Lecture 9.3: PyTorch and Deep Neural Network"
   ]
  },
  {
   "cell_type": "markdown",
   "metadata": {
    "id": "zK7_SsKTj-9-"
   },
   "source": [
    "By courtesy of [Sayantini Deb](https://medium.com/edureka/pytorch-tutorial-9971d66f6893) and [Yunjey Choi](https://github.com/yunjey/pytorch-tutorial/tree/master/tutorials/03-advanced/neural_style_transfer#content-loss). Thanks for their nice work."
   ]
  },
  {
   "cell_type": "markdown",
   "metadata": {
    "id": "L_UguT_5HFu3"
   },
   "source": [
    "## 1. What is PyTorch?\n",
    "\n",
    "It’s a Python-based scientific computing package targeted at two sets of audiences:\n",
    "\n",
    "*   A replacement for NumPy to make use of the power of GPUs.\n",
    "\n",
    "*   Deep Learning research platform that provides maximum flexibility and speed.\n",
    "\n",
    "**Features of PyTorch — Highlights**\n",
    "\n",
    "1. Native support for Python and use of its libraries\n",
    "2. Actively used in the development of Facebook for all of its Deep Learning requirements in the platform.\n",
    "3. PyTorch ensures an easy-to-use API which helps with easier usability and better understanding when making use of the API.\n",
    "4. Dynamic Computation Graphs are a major highlight here as they ensure the graph build-up dynamically — at every point of code execution, the graph is built along and can be manipulated at run-time.\n",
    "5. PyTorch is fast and feels native, hence ensuring easy coding and fast processing.\n",
    "6. The support for CUDA ensures that the code can run on the GPU, thereby decreasing the time needed to run the code and increasing the overall performance of the system.\n",
    "\n",
    "**Installing PyTorch**\n",
    "\n",
    "Move to this page https://pytorch.org/get-started/locally/, you can download and install PyTorch on your machine. It’s pretty straightforward based on the system properties such as the operating system or the package managers. It can be installed from the command prompt or within an IDE such as PyCharm. Note that the example here is the installation of PyTorch GPU version. You can also install the PyTorch CPU version on your machine by selecting the 'CPU' rather than 'CUDA'.\n",
    "\n",
    "`Windows Installation`:\n",
    "\n",
    "<table>\n",
    "<td> \n",
    "<img src=\"./pytorch_install_conda.png\" style=\"width:100;height:100px;\"> <br>\n",
    "</td> \n",
    "<td> \n",
    "<img src=\"./pytorch_install_pip.png\" style=\"width:100;height:100px;\"> <br>\n",
    "</td>  \n",
    "</table>\n",
    "\n",
    "`Mac Installation`:\n",
    "<table>\n",
    "<td> \n",
    "<img src=\"./pytorch_install_conda_mac.png\" style=\"width:100;height:100px;\"> <br>\n",
    "</td> \n",
    "<td> \n",
    "<img src=\"./pytorch_install_pip_mac.png\" style=\"width:100;height:100px;\"> <br>\n",
    "</td>  \n",
    "</table>\n",
    "\n",
    "\n",
    "**Tensors**\n",
    "\n",
    "Tensors are similar to NumPy’s $n$-dimensional arrays, with the addition being that tensors can also be used on a GPU to accelerate computing.\n",
    "\n",
    "Let’s construct a simple tensor and check the output. First, let’s check out how we can construct a $5\\times3$ matrix which is uninitiated:"
   ]
  },
  {
   "cell_type": "code",
   "execution_count": 1,
   "metadata": {
    "colab": {
     "base_uri": "https://localhost:8080/"
    },
    "executionInfo": {
     "elapsed": 2817,
     "status": "ok",
     "timestamp": 1667972133374,
     "user": {
      "displayName": "Kede Ma",
      "userId": "03984196065012193056"
     },
     "user_tz": -480
    },
    "id": "AIpWrec1Nd_v",
    "outputId": "b547d716-533f-43d0-fc05-ef31cb0da077"
   },
   "outputs": [
    {
     "name": "stdout",
     "output_type": "stream",
     "text": [
      "tensor([[2.8221e-35, 0.0000e+00, 3.3631e-44],\n",
      "        [0.0000e+00,        nan, 0.0000e+00],\n",
      "        [1.1578e+27, 1.1362e+30, 7.1547e+22],\n",
      "        [4.5828e+30, 1.2121e+04, 7.1846e+22],\n",
      "        [9.2198e-39, 7.0374e+22, 0.0000e+00]])\n"
     ]
    }
   ],
   "source": [
    "import torch\n",
    "\n",
    "x = torch.empty(5, 3)\n",
    "print(x)"
   ]
  },
  {
   "cell_type": "markdown",
   "metadata": {
    "id": "A5lgEHDFNl42"
   },
   "source": [
    "Now let’s construct a randomly initialized matrix:"
   ]
  },
  {
   "cell_type": "code",
   "execution_count": 2,
   "metadata": {
    "colab": {
     "base_uri": "https://localhost:8080/"
    },
    "executionInfo": {
     "elapsed": 432,
     "status": "ok",
     "timestamp": 1667972135257,
     "user": {
      "displayName": "Kede Ma",
      "userId": "03984196065012193056"
     },
     "user_tz": -480
    },
    "id": "egkD5OJpNlne",
    "outputId": "cd5f98b6-6523-4ed9-8588-82af9122ddae"
   },
   "outputs": [
    {
     "name": "stdout",
     "output_type": "stream",
     "text": [
      "tensor([[0.0618, 0.5255, 0.5822],\n",
      "        [0.8353, 0.2721, 0.8620],\n",
      "        [0.3650, 0.4907, 0.5568],\n",
      "        [0.2270, 0.8552, 0.6208],\n",
      "        [0.5979, 0.9330, 0.8561]])\n"
     ]
    }
   ],
   "source": [
    "x = torch.rand(5, 3)\n",
    "print(x)"
   ]
  },
  {
   "cell_type": "markdown",
   "metadata": {
    "id": "0fvXdsHpNrCe"
   },
   "source": [
    "Construct a tensor directly from data:"
   ]
  },
  {
   "cell_type": "code",
   "execution_count": 3,
   "metadata": {
    "colab": {
     "base_uri": "https://localhost:8080/"
    },
    "executionInfo": {
     "elapsed": 550,
     "status": "ok",
     "timestamp": 1667972137330,
     "user": {
      "displayName": "Kede Ma",
      "userId": "03984196065012193056"
     },
     "user_tz": -480
    },
    "id": "nzJSe2XFNh38",
    "outputId": "1a6c99f5-fef3-4bc2-bc53-4e5b478dd9f5"
   },
   "outputs": [
    {
     "name": "stdout",
     "output_type": "stream",
     "text": [
      "tensor([5.5000, 3.0000])\n"
     ]
    }
   ],
   "source": [
    "x = torch.tensor([5.5, 3]) \n",
    "print(x)"
   ]
  },
  {
   "cell_type": "markdown",
   "metadata": {
    "id": "uS01q5qDNvPO"
   },
   "source": [
    "**Tensor Operations**\n",
    "\n",
    "There are multiple syntaxes for tensor operations. In the following example, we will take a look at the addition operation:"
   ]
  },
  {
   "cell_type": "code",
   "execution_count": 4,
   "metadata": {
    "colab": {
     "base_uri": "https://localhost:8080/"
    },
    "executionInfo": {
     "elapsed": 1,
     "status": "ok",
     "timestamp": 1667972138343,
     "user": {
      "displayName": "Kede Ma",
      "userId": "03984196065012193056"
     },
     "user_tz": -480
    },
    "id": "HFn_7iZKNssW",
    "outputId": "fd56e43f-652a-4b4e-ea77-34cd25b8ea57"
   },
   "outputs": [
    {
     "name": "stdout",
     "output_type": "stream",
     "text": [
      "tensor([[1.3373, 1.5930, 1.0996],\n",
      "        [0.2482, 0.8388, 0.6051],\n",
      "        [1.1282, 1.1169, 0.7966],\n",
      "        [0.3781, 1.2353, 0.4106],\n",
      "        [1.0645, 1.7300, 0.9012]])\n"
     ]
    }
   ],
   "source": [
    "x = torch.rand(5, 3)\n",
    "y = torch.rand(5, 3) \n",
    "print(x + y)"
   ]
  },
  {
   "cell_type": "markdown",
   "metadata": {
    "id": "tj9yt5qmOAFW"
   },
   "source": [
    "Resizing: If you want to reshape/resize a tensor, you can use `torch.view`:"
   ]
  },
  {
   "cell_type": "code",
   "execution_count": 5,
   "metadata": {
    "colab": {
     "base_uri": "https://localhost:8080/"
    },
    "executionInfo": {
     "elapsed": 455,
     "status": "ok",
     "timestamp": 1667972140385,
     "user": {
      "displayName": "Kede Ma",
      "userId": "03984196065012193056"
     },
     "user_tz": -480
    },
    "id": "RPj-QMfXN1gm",
    "outputId": "41157bcc-dba9-4cc6-fe53-1e9b727ca936"
   },
   "outputs": [
    {
     "name": "stdout",
     "output_type": "stream",
     "text": [
      "torch.Size([4, 4]) torch.Size([16]) torch.Size([2, 8])\n"
     ]
    }
   ],
   "source": [
    "x = torch.randn(4, 4)\n",
    "y = x.view(16)\n",
    "z = x.view(-1, 8) # the size -1 is inferred from other dimensions\n",
    "print(x.size(), y.size(), z.size())"
   ]
  },
  {
   "cell_type": "markdown",
   "metadata": {
    "id": "_VJSdNEWOIF9"
   },
   "source": [
    "**NumPy for PyTorch**\n",
    "\n",
    "NumPy is a library for the Python programming language, adding support for large, multi-dimensional arrays and matrices, along with a large collection of high-level mathematical functions to operate on these arrays.\n",
    "\n",
    "It is also used as:\n",
    "\n",
    "*   Library providing tools for integrating C/C++ and FORTRAN code.\n",
    "Operations with linear algebra, Fourier transforms, and random number capabilities.\n",
    "*   Besides its obvious scientific uses, NumPy can also be used as an efficient multi-dimensional container of generic data and arbitrary data types can be defined as well.\n",
    "\n",
    "This allows NumPy to seamlessly and speedily integrate with a wide variety of databases!\n",
    "\n",
    "Converting a Torch Tensor to a NumPy array and vice versa is a breeze!\n",
    "\n",
    "<img src=\"./tensor-numpy.png\" width = \"500\" height = \"300\" align=center />\n",
    "\n",
    "The Torch Tensor and NumPy array will share their underlying memory locations and changing one will change the other."
   ]
  },
  {
   "cell_type": "code",
   "execution_count": 6,
   "metadata": {
    "colab": {
     "base_uri": "https://localhost:8080/"
    },
    "executionInfo": {
     "elapsed": 410,
     "status": "ok",
     "timestamp": 1667972142477,
     "user": {
      "displayName": "Kede Ma",
      "userId": "03984196065012193056"
     },
     "user_tz": -480
    },
    "id": "OXYnhYP4OFUH",
    "outputId": "b65b3cfb-b302-4f4a-e55b-920fa0686537"
   },
   "outputs": [
    {
     "name": "stdout",
     "output_type": "stream",
     "text": [
      "tensor([1., 1., 1., 1., 1.])\n"
     ]
    }
   ],
   "source": [
    "# Converting A Torch Tensor To A NumPy Array:\n",
    "a = torch.ones(5) \n",
    "print(a)"
   ]
  },
  {
   "cell_type": "code",
   "execution_count": 7,
   "metadata": {
    "colab": {
     "base_uri": "https://localhost:8080/"
    },
    "executionInfo": {
     "elapsed": 305,
     "status": "ok",
     "timestamp": 1667972145849,
     "user": {
      "displayName": "Kede Ma",
      "userId": "03984196065012193056"
     },
     "user_tz": -480
    },
    "id": "ZORWyPTcRssi",
    "outputId": "d9958575-153f-4388-b7ef-7d54e250aec1"
   },
   "outputs": [
    {
     "name": "stdout",
     "output_type": "stream",
     "text": [
      "[1. 1. 1. 1. 1.]\n"
     ]
    }
   ],
   "source": [
    "# Create a NumPy array:\n",
    "b = a.numpy() \n",
    "print(b)"
   ]
  },
  {
   "cell_type": "markdown",
   "metadata": {
    "id": "tMR1S8UvR0oq"
   },
   "source": [
    "Let’s perform a sum operation and check the changes in the values:"
   ]
  },
  {
   "cell_type": "code",
   "execution_count": 8,
   "metadata": {
    "colab": {
     "base_uri": "https://localhost:8080/"
    },
    "executionInfo": {
     "elapsed": 308,
     "status": "ok",
     "timestamp": 1667972147712,
     "user": {
      "displayName": "Kede Ma",
      "userId": "03984196065012193056"
     },
     "user_tz": -480
    },
    "id": "8jYSyuROR1OZ",
    "outputId": "62ee1df5-9d94-4353-8fa8-c2d635f35b77"
   },
   "outputs": [
    {
     "name": "stdout",
     "output_type": "stream",
     "text": [
      "tensor([2., 2., 2., 2., 2.])\n",
      "[2. 2. 2. 2. 2.]\n"
     ]
    }
   ],
   "source": [
    "a.add_(1)\n",
    "print(a)\n",
    "print(b)"
   ]
  },
  {
   "cell_type": "code",
   "execution_count": 9,
   "metadata": {
    "colab": {
     "base_uri": "https://localhost:8080/"
    },
    "executionInfo": {
     "elapsed": 2,
     "status": "ok",
     "timestamp": 1667972148548,
     "user": {
      "displayName": "Kede Ma",
      "userId": "03984196065012193056"
     },
     "user_tz": -480
    },
    "id": "iw50PlbnR35B",
    "outputId": "ab463ed2-d6bd-466b-c741-47da8e584198"
   },
   "outputs": [
    {
     "name": "stdout",
     "output_type": "stream",
     "text": [
      "[2. 2. 2. 2. 2.]\n",
      "tensor([2., 2., 2., 2., 2.], dtype=torch.float64)\n"
     ]
    }
   ],
   "source": [
    "# Converting A NumPy Array To A Torch Tensor:\n",
    "import numpy as np\n",
    "\n",
    "a = np.ones(5)\n",
    "b = torch.from_numpy(a)\n",
    "np.add(a, 1, out=a)\n",
    "print(a)\n",
    "print(b)"
   ]
  },
  {
   "cell_type": "markdown",
   "metadata": {
    "id": "8ckXWnAESAPx"
   },
   "source": [
    "So, as you can see, it is as simple as that!\n",
    "\n",
    "Next, let’s look at an interesting and simple use case.\n",
    "\n",
    "## 2. PyTorch Use Case: Training an Image Classifier\n",
    "\n",
    "Generally, when you have to deal with image, text, audio or video data, you can use standard python packages that load data into a Numpy array. Then you can convert this array into a ``torch.Tensor``.\n",
    "\n",
    "*   For images, packages such as Pillow and OpenCV are useful.\n",
    "*   For audio, packages such as Scipy and Librosa.\n",
    "*   For text, either raw Python, Cython based loading or NLTK and SpaCy are useful.\n",
    "\n",
    "Specifically for vision, there is a package called torchvision, that has data loaders for common data sets such as Imagenet, CIFAR10, MNIST, etc. and data transformers for images.\n",
    "\n",
    "This provides a huge convenience and avoids writing boilerplate code.\n",
    "\n",
    "For this tutorial, we will use the CIFAR10 dataset.\n",
    "\n",
    "It has the classes: ‘airplane’, ‘automobile’, ‘bird’, ‘cat’, ‘deer’, ‘dog’, ‘frog’, ‘horse’, ‘ship’, ‘truck’. The images in CIFAR10 are of size $3\\times32\\times32$, i.e., $3$-channel color images of $32\\times32$ pixels in size as shown below:\n",
    "\n",
    "![CIFAR10](./CIFAR10.png)\n",
    "\n",
    "**PyTorch: Training the CIFAR10 Classifier**\n",
    "\n",
    "![Training The CIFAR10 Classifier](./frameworlk.png)\n",
    "\n",
    "We will do the following steps in order:\n",
    "\n",
    "1. Loading and normalizing CIFAR10.\n",
    "2. Define a convolution neural network.\n",
    "3. Define a loss function.\n",
    "4. Train the network on the training data.\n",
    "5. Test the network on the test data.\n",
    "\n",
    "**Loading and Normalizing CIFAR10**\n",
    "\n",
    "Using `torchvision`, it is very easy to load CIFAR10!\n",
    "\n",
    "It is as simple as follows:"
   ]
  },
  {
   "cell_type": "code",
   "execution_count": 10,
   "metadata": {
    "executionInfo": {
     "elapsed": 366,
     "status": "ok",
     "timestamp": 1667972168687,
     "user": {
      "displayName": "Kede Ma",
      "userId": "03984196065012193056"
     },
     "user_tz": -480
    },
    "id": "9YHHHtIzSJTn"
   },
   "outputs": [],
   "source": [
    "import torch\n",
    "import torchvision\n",
    "import torchvision.transforms as transforms"
   ]
  },
  {
   "cell_type": "markdown",
   "metadata": {
    "id": "A-GhwhFAVFue"
   },
   "source": [
    "The outputs of torchvision datasets are PILImage images of range $[0, 1]$. We transform them to tensors of normalized range $[-1, 1]$."
   ]
  },
  {
   "cell_type": "code",
   "execution_count": null,
   "metadata": {
    "id": "vSAghyVXVOWz"
   },
   "outputs": [],
   "source": [
    "transform = transforms.Compose(\n",
    "    [transforms.ToTensor(),\n",
    "     transforms.Normalize((0.5, 0.5, 0.5), (0.5, 0.5, 0.5))])\n",
    "\n",
    "trainset = torchvision.datasets.CIFAR10(root='./data', \n",
    "                                train=True, download=True, transform=transform)\n",
    "\n",
    "trainloader = torch.utils.data.DataLoader(trainset, \n",
    "                                batch_size=4, shuffle=True, num_workers=2)\n",
    "\n",
    "testset = torchvision.datasets.CIFAR10(root='./data', \n",
    "                                train=False, download=True, transform=transform)\n",
    "\n",
    "testloader = torch.utils.data.DataLoader(testset, \n",
    "                                batch_size=4, shuffle=False, num_workers=2)\n",
    "\n",
    "classes = ('plane', 'car', 'bird', 'cat',\n",
    "'deer', 'dog', 'frog', 'horse', 'ship', 'truck')"
   ]
  },
  {
   "cell_type": "markdown",
   "metadata": {
    "id": "kvhVDSleVh5t"
   },
   "source": [
    "Next, let us print some training images from the dataset!"
   ]
  },
  {
   "cell_type": "code",
   "execution_count": null,
   "metadata": {
    "colab": {
     "base_uri": "https://localhost:8080/",
     "height": 155
    },
    "executionInfo": {
     "elapsed": 1090,
     "status": "ok",
     "timestamp": 1667370163094,
     "user": {
      "displayName": "Kede Ma",
      "userId": "03984196065012193056"
     },
     "user_tz": -480
    },
    "id": "AKBwUUQPVc3T",
    "outputId": "9b519001-ca35-40c4-b160-11dd250cb44e"
   },
   "outputs": [
    {
     "name": "stdout",
     "output_type": "stream",
     "text": [
      " deer   dog truck   cat\n"
     ]
    },
    {
     "data": {
      "image/png": "[encoded data removed]",
      "text/plain": [
       "<Figure size 432x288 with 1 Axes>"
      ]
     },
     "metadata": {},
     "output_type": "display_data"
    }
   ],
   "source": [
    "import matplotlib.pyplot as plt\n",
    "import numpy as np\n",
    " \n",
    "# functions to show an image\n",
    " \n",
    " \n",
    "def imshow(img):\n",
    "  img = img / 2 + 0.5 # unnormalize\n",
    "  npimg = img.numpy()\n",
    "  plt.imshow(np.transpose(npimg, (1, 2, 0)))\n",
    " \n",
    " \n",
    "# get some random training images\n",
    "dataiter = iter(trainloader)\n",
    "images, labels = dataiter.next()\n",
    " \n",
    "# show images\n",
    "imshow(torchvision.utils.make_grid(images))\n",
    "# print labels\n",
    "print(' '.join('%5s' % classes[labels[j]] for j in range(4)))"
   ]
  },
  {
   "cell_type": "markdown",
   "metadata": {
    "id": "gzdZMFb4VulM"
   },
   "source": [
    "**Define a Convolution Neural Network**\n",
    "\n",
    "We will use `torch.nn.Conv2d(in_channels, out_channels, kernel_size, stride=1, padding=0, bias=True)`, `torch.nn.MaxPool2d(kernel_size, stride=None, padding=0)`, `torch.nn.Linear(in_features, out_features, bias=True)` and `torch.nn.functional.relu(input)` to build our CNN.\n",
    "\n",
    "Consider the case to use $3$-channel images (red, green and blue). Here’s the code to define the architecture of the CNN:"
   ]
  },
  {
   "cell_type": "code",
   "execution_count": null,
   "metadata": {
    "id": "St0LD4UxVnxd"
   },
   "outputs": [],
   "source": [
    "import torch.nn as nn\n",
    "import torch.nn.functional as F\n",
    " \n",
    " \n",
    "class Net(nn.Module):\n",
    "  def __init__(self):\n",
    "    super(Net, self).__init__()\n",
    "    self.conv1 = nn.Conv2d(3, 6, 5)\n",
    "    self.pool = nn.MaxPool2d(2, 2)\n",
    "    self.conv2 = nn.Conv2d(6, 16, 5)\n",
    "    self.fc1 = nn.Linear(16 * 5 * 5, 120)\n",
    "    self.fc2 = nn.Linear(120, 84)\n",
    "    self.fc3 = nn.Linear(84, 10)\n",
    "    \n",
    "  def forward(self, x):\n",
    "    x = self.pool(F.relu(self.conv1(x)))\n",
    "    x = self.pool(F.relu(self.conv2(x)))\n",
    "    x = x.view(-1, 16 * 5 * 5)\n",
    "    x = F.relu(self.fc1(x))\n",
    "    x = F.relu(self.fc2(x))\n",
    "    x = self.fc3(x)\n",
    "    \n",
    "    return x\n",
    " \n",
    "net = Net()"
   ]
  },
  {
   "cell_type": "markdown",
   "metadata": {
    "id": "wukr5baGWWfc"
   },
   "source": [
    "**Define Loss Function and Optimizer**\n",
    "\n",
    "We will need to define the loss function. In this case, we can make use of a classification cross-entropy loss. We’ll be using SGD with momentum as well."
   ]
  },
  {
   "cell_type": "code",
   "execution_count": null,
   "metadata": {
    "id": "JFsiY_ZfWiWC"
   },
   "outputs": [],
   "source": [
    "import torch.optim as optim\n",
    " \n",
    "criterion = nn.CrossEntropyLoss()\n",
    "optimizer = optim.SGD(net.parameters(), lr=0.001, momentum=0.9)"
   ]
  },
  {
   "cell_type": "markdown",
   "metadata": {
    "id": "9mLixLBTWozE"
   },
   "source": [
    "**Train the Network**\n",
    "\n",
    "This is when things start to get interesting! We simply have to loop over our data iterator, and feed the inputs to the network and optimize."
   ]
  },
  {
   "cell_type": "code",
   "execution_count": null,
   "metadata": {
    "colab": {
     "background_save": true,
     "base_uri": "https://localhost:8080/"
    },
    "executionInfo": {
     "elapsed": 115240,
     "status": "ok",
     "timestamp": 1667370341138,
     "user": {
      "displayName": "Kede Ma",
      "userId": "03984196065012193056"
     },
     "user_tz": -480
    },
    "id": "_5gmEpPoWmS8"
   },
   "outputs": [
    {
     "name": "stdout",
     "output_type": "stream",
     "text": [
      "[1,  2000] loss: 2.207\n",
      "[1,  4000] loss: 1.881\n",
      "[1,  6000] loss: 1.682\n",
      "[1,  8000] loss: 1.569\n",
      "[1, 10000] loss: 1.492\n",
      "[1, 12000] loss: 1.455\n",
      "[2,  2000] loss: 1.382\n",
      "[2,  4000] loss: 1.343\n",
      "[2,  6000] loss: 1.315\n",
      "[2,  8000] loss: 1.305\n",
      "[2, 10000] loss: 1.290\n",
      "[2, 12000] loss: 1.254\n",
      "Finished Training\n"
     ]
    }
   ],
   "source": [
    "for epoch in range(2):  # loop over the dataset multiple times\n",
    "  running_loss = 0.0\n",
    "  for i, data in enumerate(trainloader, 0):\n",
    "    # get the inputs\n",
    "    inputs, labels = data\n",
    "    # zero the parameter gradients\n",
    "    optimizer.zero_grad()\n",
    "    \n",
    "    # forward + backward + optimize\n",
    "    outputs = net(inputs)\n",
    "    loss = criterion(outputs, labels)\n",
    "    loss.backward()\n",
    "    optimizer.step()\n",
    "    \n",
    "    # print statistics\n",
    "    running_loss += loss.item()\n",
    "    if i % 2000 == 1999: # print every 2000 mini-batches\n",
    "      print('[%d, %5d] loss: %.3f' %\n",
    "          (epoch + 1, i + 1, running_loss / 2000))\n",
    "      running_loss = 0.0\n",
    " \n",
    "print('Finished Training')\n"
   ]
  },
  {
   "cell_type": "markdown",
   "metadata": {
    "id": "KCxKIiSYYYea"
   },
   "source": [
    "**Test the Network on the Test Data**\n",
    "\n",
    "We have trained the network for $2$ passes over the training dataset. But we need to check if the network has learned anything at all.\n",
    "\n",
    "We will check this by predicting the class label that the neural network outputs, and checking it against the ground-truth. If the prediction is correct, we add the sample to the list of correct predictions.\n",
    "\n",
    "Okay, first step! Let us display an image from the test set to get familiar."
   ]
  },
  {
   "cell_type": "code",
   "execution_count": null,
   "metadata": {
    "colab": {
     "base_uri": "https://localhost:8080/",
     "height": 155
    },
    "executionInfo": {
     "elapsed": 974,
     "status": "ok",
     "timestamp": 1667370356597,
     "user": {
      "displayName": "Kede Ma",
      "userId": "03984196065012193056"
     },
     "user_tz": -480
    },
    "id": "h4T213zPXt0A",
    "outputId": "231a65ad-5601-42d8-8780-5afe67c0900a"
   },
   "outputs": [
    {
     "name": "stdout",
     "output_type": "stream",
     "text": [
      "GroundTruth:    cat  ship  ship plane\n"
     ]
    },
    {
     "data": {
      "image/png": "[encoded data removed]",
      "text/plain": [
       "<Figure size 432x288 with 1 Axes>"
      ]
     },
     "metadata": {},
     "output_type": "display_data"
    }
   ],
   "source": [
    "dataiter = iter(testloader)\n",
    "images, labels = dataiter.next()\n",
    " \n",
    "# print images\n",
    "imshow(torchvision.utils.make_grid(images))\n",
    "print('GroundTruth: ', ' '.join('%5s' % classes[labels[j]] for j in range(4)))"
   ]
  },
  {
   "cell_type": "markdown",
   "metadata": {
    "id": "J6G36eSwYoYJ"
   },
   "source": [
    "Okay, now let us see what the Neural Network thinks these examples above are:"
   ]
  },
  {
   "cell_type": "code",
   "execution_count": null,
   "metadata": {
    "id": "4PqhbZEnYqIq"
   },
   "outputs": [],
   "source": [
    "outputs = net(images)"
   ]
  },
  {
   "cell_type": "markdown",
   "metadata": {
    "id": "MwC6tu0JY7Xp"
   },
   "source": [
    "The outputs are energies for the $10$ classes. Higher the energy for a class, the more the network thinks that the image is of the particular class. So, let’s get the index of the highest energy:"
   ]
  },
  {
   "cell_type": "code",
   "execution_count": null,
   "metadata": {
    "colab": {
     "base_uri": "https://localhost:8080/"
    },
    "executionInfo": {
     "elapsed": 231,
     "status": "ok",
     "timestamp": 1667370385910,
     "user": {
      "displayName": "Kede Ma",
      "userId": "03984196065012193056"
     },
     "user_tz": -480
    },
    "id": "T5JzbNG8Y9BW",
    "outputId": "1369ddae-898c-4489-fa5b-3592117fb7c7"
   },
   "outputs": [
    {
     "name": "stdout",
     "output_type": "stream",
     "text": [
      "Predicted:    cat  ship  ship plane\n"
     ]
    }
   ],
   "source": [
    "_, predicted = torch.max(outputs, 1)\n",
    " \n",
    "print('Predicted: ', ' '.join('%5s' % classes[predicted[j]] for j in range(4)))"
   ]
  },
  {
   "cell_type": "markdown",
   "metadata": {
    "id": "pduw7yA0Yt7p"
   },
   "source": [
    "The results seem good.\n",
    "\n",
    "Next, let us look at how the network performs on the whole dataset!"
   ]
  },
  {
   "cell_type": "code",
   "execution_count": null,
   "metadata": {
    "colab": {
     "base_uri": "https://localhost:8080/"
    },
    "executionInfo": {
     "elapsed": 7775,
     "status": "ok",
     "timestamp": 1667370400974,
     "user": {
      "displayName": "Kede Ma",
      "userId": "03984196065012193056"
     },
     "user_tz": -480
    },
    "id": "1mFWY4e_YtNJ",
    "outputId": "5853cca9-477d-47a0-a5e0-c9420d2759df"
   },
   "outputs": [
    {
     "name": "stdout",
     "output_type": "stream",
     "text": [
      "Accuracy of the network on the 10000 test images: 54 %\n"
     ]
    }
   ],
   "source": [
    "correct = 0\n",
    "total = 0\n",
    "with torch.no_grad():\n",
    "  for data in testloader:\n",
    "    images, labels = data\n",
    "    outputs = net(images)\n",
    "    _, predicted = torch.max(outputs.data, 1)\n",
    "    total += labels.size(0)\n",
    "    correct += (predicted == labels).sum().item()\n",
    " \n",
    "print('Accuracy of the network on the 10000 test images: %d %%' \n",
    "      % (100 * correct / total))"
   ]
  },
  {
   "cell_type": "markdown",
   "metadata": {
    "id": "KkjGrNbUaWD4"
   },
   "source": [
    "That looks better than chance, which is $10\\%$ accurate (randomly picking a class out of $10$ classes).\n",
    "\n",
    "It seems like the network learned something!\n",
    "\n",
    "What are the classes that performed well and the classes that did not perform well?"
   ]
  },
  {
   "cell_type": "code",
   "execution_count": null,
   "metadata": {
    "colab": {
     "base_uri": "https://localhost:8080/"
    },
    "executionInfo": {
     "elapsed": 7868,
     "status": "ok",
     "timestamp": 1667370422745,
     "user": {
      "displayName": "Kede Ma",
      "userId": "03984196065012193056"
     },
     "user_tz": -480
    },
    "id": "eMU6c4NSaPHo",
    "outputId": "bb2efd26-9984-4231-b0e4-772b0f56fd1d"
   },
   "outputs": [
    {
     "name": "stdout",
     "output_type": "stream",
     "text": [
      "Accuracy of plane : 72 %\n",
      "Accuracy of   car : 48 %\n",
      "Accuracy of  bird : 42 %\n",
      "Accuracy of   cat : 30 %\n",
      "Accuracy of  deer : 40 %\n",
      "Accuracy of   dog : 58 %\n",
      "Accuracy of  frog : 72 %\n",
      "Accuracy of horse : 51 %\n",
      "Accuracy of  ship : 59 %\n",
      "Accuracy of truck : 65 %\n"
     ]
    }
   ],
   "source": [
    "class_correct = list(0. for i in range(10))\n",
    "class_total = list(0. for i in range(10))\n",
    "with torch.no_grad():\n",
    "  for data in testloader:\n",
    "    images, labels = data\n",
    "    outputs = net(images)\n",
    "    _, predicted = torch.max(outputs, 1)\n",
    "    c = (predicted == labels).squeeze()\n",
    "    for i in range(4):\n",
    "      label = labels[i]\n",
    "      class_correct[label] += c[i].item()\n",
    "      class_total[label] += 1\n",
    "\n",
    "for i in range(10):\n",
    "  print('Accuracy of %5s : %2d %%' % \n",
    "        (classes[i], 100 * class_correct[i] / class_total[i]))"
   ]
  },
  {
   "cell_type": "markdown",
   "metadata": {
    "id": "TUED1HJHbHh2"
   },
   "source": [
    "So far, we made sure to train a small Neural Network which classifies images by using PyTorch and it turned out as expected!\n",
    "\n",
    "Next, we will do some practices to define more complicated neural networks and accomplish some advanced functions.\n",
    "\n",
    "## 3. VGG19\n",
    "\n",
    "**The Architecture of VGG19:**\n",
    "\n",
    "![VGG19](./VGG19.png)\n",
    "\n",
    "More details about VGG19 can be found in [https://arxiv.org/pdf/1409.1556.pdf](https://arxiv.org/pdf/1409.1556.pdf).\n",
    "\n",
    "**Load the Required Packages:**"
   ]
  },
  {
   "cell_type": "code",
   "execution_count": null,
   "metadata": {
    "id": "81M9I1UUuBqw"
   },
   "outputs": [],
   "source": [
    "import time\n",
    "import os\n",
    "\n",
    "import numpy as np\n",
    "\n",
    "import torch\n",
    "import torch.nn.functional as F\n",
    "import torch.nn as nn\n",
    "\n",
    "\n",
    "from torch.utils.data import Dataset\n",
    "from torch.utils.data import DataLoader\n",
    "from torchvision import transforms\n",
    "\n",
    "from PIL import Image\n",
    "import matplotlib.pyplot as plt\n",
    "\n",
    "import argparse\n",
    "\n",
    "import numpy as np\n",
    "import torch\n",
    "import torchvision\n",
    "import torch.nn as nn\n",
    "import torch.nn.functional as F\n",
    "import torch.utils.data as Data\n",
    "import matplotlib.pyplot as plt\n",
    "from PIL import Image\n",
    "import torch.nn as nn\n",
    "import torch.nn.functional as F\n",
    "import torch.nn as nn\n",
    "import torch.nn.functional as F\n",
    "from torchvision import datasets"
   ]
  },
  {
   "cell_type": "code",
   "execution_count": null,
   "metadata": {
    "id": "a32sGxXZuBoY"
   },
   "outputs": [],
   "source": [
    "DEVICE = torch.device(\"cuda\" if torch.cuda.is_available() else \"cpu\") # determine the device to train the model: CPU or GPU"
   ]
  },
  {
   "cell_type": "markdown",
   "metadata": {
    "id": "GFxFZGSFwNw8"
   },
   "source": [
    "**Get the CIFAR10 and Load the Dataset:**"
   ]
  },
  {
   "cell_type": "code",
   "execution_count": null,
   "metadata": {
    "colab": {
     "base_uri": "https://localhost:8080/"
    },
    "executionInfo": {
     "elapsed": 1637,
     "status": "ok",
     "timestamp": 1667370485000,
     "user": {
      "displayName": "Kede Ma",
      "userId": "03984196065012193056"
     },
     "user_tz": -480
    },
    "id": "zJPibIgTuBj8",
    "outputId": "2843b87b-964c-44e9-c92c-a2e4012199a5"
   },
   "outputs": [
    {
     "name": "stdout",
     "output_type": "stream",
     "text": [
      "Files already downloaded and verified\n"
     ]
    }
   ],
   "source": [
    "batch_size = 64\n",
    "train_dataset = datasets.CIFAR10(root='data', \n",
    "                                 train=True, \n",
    "                                 transform=transforms.ToTensor(),\n",
    "                                 download=True)\n",
    "\n",
    "test_dataset = datasets.CIFAR10(root='data', \n",
    "                                train=False, \n",
    "                                transform=transforms.ToTensor())\n",
    "\n",
    "\n",
    "train_loader = DataLoader(dataset=train_dataset, \n",
    "                          batch_size=batch_size, \n",
    "                          shuffle=True)\n",
    "\n",
    "test_loader = DataLoader(dataset=test_dataset, \n",
    "                         batch_size=batch_size, \n",
    "                         shuffle=False)\n"
   ]
  },
  {
   "cell_type": "markdown",
   "metadata": {
    "id": "TWCTM33OwXl0"
   },
   "source": [
    "**Define VGG19-Net:**\n",
    "\n",
    "When building a convolution block, we usually include a convolution operation, a batch normalization operation, and an activation operation, where batch normalization can be operated by `torch.nn.BatchNorm2d`."
   ]
  },
  {
   "cell_type": "code",
   "execution_count": null,
   "metadata": {
    "id": "c-Z_J1qouBhZ"
   },
   "outputs": [],
   "source": [
    "import time\n",
    "import os\n",
    "\n",
    "import numpy as np\n",
    "\n",
    "import torch\n",
    "import torch.nn.functional as F\n",
    "import torch.nn as nn\n",
    "\n",
    "\n",
    "from torch.utils.data import Dataset\n",
    "from torch.utils.data import DataLoader\n",
    "from torchvision import transforms\n",
    "\n",
    "from PIL import Image\n",
    "import matplotlib.pyplot as plt\n",
    "\n",
    "class VGG19(torch.nn.Module):\n",
    "    def __init__(self,num_classes):\n",
    "        super(VGG19, self).__init__()\n",
    "        self.block1 = nn.Sequential(\n",
    "            nn.Conv2d(in_channels=3,out_channels=64,\n",
    "                      kernel_size=(3,3),stride=(1,1),padding=1),\n",
    "            nn.BatchNorm2d(num_features=64),\n",
    "            nn.ReLU(), # this is different from `torch.nn.functional.relu`, which is a function, while nn.ReLU() is a class \n",
    "            nn.Conv2d(in_channels=64, out_channels=64, \n",
    "                      kernel_size=(3, 3), stride=(1, 1), padding=1),\n",
    "            nn.BatchNorm2d(num_features=64),\n",
    "            nn.ReLU(),\n",
    "            nn.MaxPool2d(kernel_size=(2,2),stride=(2,2))\n",
    "        )\n",
    "        self.block2 = nn.Sequential(\n",
    "            nn.Conv2d(in_channels=64, out_channels=128, \n",
    "                      kernel_size=(3, 3), stride=(1, 1), padding=1),\n",
    "            nn.BatchNorm2d(num_features=128),\n",
    "            nn.ReLU(),\n",
    "            nn.Conv2d(in_channels=128, out_channels=128, \n",
    "                      kernel_size=(3, 3), stride=(1, 1), padding=1),\n",
    "            nn.BatchNorm2d(num_features=128),\n",
    "            nn.ReLU(),\n",
    "            nn.MaxPool2d(kernel_size=(2, 2), stride=(2, 2))\n",
    "        )\n",
    "        self.block3 = nn.Sequential(\n",
    "            nn.Conv2d(in_channels=128, out_channels=256, \n",
    "                      kernel_size=(3, 3), stride=(1, 1), padding=1),\n",
    "            nn.BatchNorm2d(num_features=256),\n",
    "            nn.ReLU(),\n",
    "            nn.Conv2d(in_channels=256, out_channels=256, \n",
    "                      kernel_size=(3, 3), stride=(1, 1), padding=1),\n",
    "            nn.BatchNorm2d(num_features=256),\n",
    "            nn.ReLU(),\n",
    "            nn.Conv2d(in_channels=256, out_channels=256, \n",
    "                      kernel_size=(3, 3), stride=(1, 1), padding=1),\n",
    "            nn.BatchNorm2d(num_features=256),\n",
    "            nn.ReLU(),\n",
    "            nn.Conv2d(in_channels=256, out_channels=256, \n",
    "                      kernel_size=(3, 3), stride=(1, 1), padding=1),\n",
    "            nn.BatchNorm2d(num_features=256),\n",
    "            nn.ReLU(),\n",
    "            nn.MaxPool2d(kernel_size=(2, 2), stride=(2, 2))\n",
    "        )\n",
    "        self.block4 = nn.Sequential(\n",
    "            nn.Conv2d(in_channels=256, out_channels=512, \n",
    "                      kernel_size=(3, 3), stride=(1, 1), padding=1),\n",
    "            nn.BatchNorm2d(num_features=512),\n",
    "            nn.ReLU(),\n",
    "            nn.Conv2d(in_channels=512, out_channels=512, \n",
    "                      kernel_size=(3, 3), stride=(1, 1), padding=1),\n",
    "            nn.BatchNorm2d(num_features=512),\n",
    "            nn.ReLU(),\n",
    "            nn.Conv2d(in_channels=512, out_channels=512, \n",
    "                      kernel_size=(3, 3), stride=(1, 1), padding=1),\n",
    "            nn.BatchNorm2d(num_features=512),\n",
    "            nn.ReLU(),\n",
    "            nn.Conv2d(in_channels=512, out_channels=512, \n",
    "                      kernel_size=(3, 3), stride=(1, 1), padding=1),\n",
    "            nn.BatchNorm2d(num_features=512),\n",
    "            nn.ReLU(),\n",
    "            nn.MaxPool2d(kernel_size=(2, 2), stride=(2, 2))\n",
    "        )\n",
    "        self.block5  = nn.Sequential(\n",
    "            nn.Conv2d(in_channels=512, out_channels=512, \n",
    "                      kernel_size=(3, 3), stride=(1, 1), padding=1),\n",
    "            nn.BatchNorm2d(num_features=512),\n",
    "            nn.ReLU(),\n",
    "            nn.Conv2d(in_channels=512, out_channels=512, \n",
    "                      kernel_size=(3, 3), stride=(1, 1), padding=1),\n",
    "            nn.BatchNorm2d(num_features=512),\n",
    "            nn.ReLU(),\n",
    "            nn.Conv2d(in_channels=512, out_channels=512, \n",
    "                      kernel_size=(3, 3), stride=(1, 1), padding=1),\n",
    "            nn.BatchNorm2d(num_features=512),\n",
    "            nn.ReLU(),\n",
    "            nn.Conv2d(in_channels=512, out_channels=512, \n",
    "                      kernel_size=(3, 3), stride=(1, 1), padding=1),\n",
    "            nn.BatchNorm2d(num_features=512),\n",
    "            nn.ReLU(),\n",
    "            nn.MaxPool2d(kernel_size=(2, 2), stride=(2, 2))\n",
    "        )\n",
    "        self.classifier = nn.Sequential(\n",
    "            nn.Linear(512*1*1,4096),\n",
    "            nn.ReLU(),\n",
    "            nn.Dropout(0.5),\n",
    "\n",
    "            nn.Linear(4096,4096),\n",
    "            nn.ReLU(),\n",
    "            nn.Dropout(0.5),\n",
    "\n",
    "            nn.Linear(4096,num_classes)\n",
    "        )\n",
    "    def forward(self,x):\n",
    "        x = self.block1(x)\n",
    "        x = self.block2(x)\n",
    "        x = self.block3(x)\n",
    "        x = self.block4(x)\n",
    "        x = self.block5(x)\n",
    "        logits = self.classifier(x.view(-1,512*1*1))\n",
    "        probas = F.softmax(logits,dim = 1)\n",
    "        return logits,probas"
   ]
  },
  {
   "cell_type": "code",
   "execution_count": null,
   "metadata": {
    "colab": {
     "base_uri": "https://localhost:8080/"
    },
    "executionInfo": {
     "elapsed": 1091,
     "status": "ok",
     "timestamp": 1667371057596,
     "user": {
      "displayName": "Kede Ma",
      "userId": "03984196065012193056"
     },
     "user_tz": -480
    },
    "id": "52l1d91cuBew",
    "outputId": "1cafb8a9-4fe3-4c69-ea84-c63be6993537"
   },
   "outputs": [
    {
     "name": "stdout",
     "output_type": "stream",
     "text": [
      "VGG19(\n",
      "  (block1): Sequential(\n",
      "    (0): Conv2d(3, 64, kernel_size=(3, 3), stride=(1, 1), padding=(1, 1))\n",
      "    (1): BatchNorm2d(64, eps=1e-05, momentum=0.1, affine=True, track_running_stats=True)\n",
      "    (2): ReLU()\n",
      "    (3): Conv2d(64, 64, kernel_size=(3, 3), stride=(1, 1), padding=(1, 1))\n",
      "    (4): BatchNorm2d(64, eps=1e-05, momentum=0.1, affine=True, track_running_stats=True)\n",
      "    (5): ReLU()\n",
      "    (6): MaxPool2d(kernel_size=(2, 2), stride=(2, 2), padding=0, dilation=1, ceil_mode=False)\n",
      "  )\n",
      "  (block2): Sequential(\n",
      "    (0): Conv2d(64, 128, kernel_size=(3, 3), stride=(1, 1), padding=(1, 1))\n",
      "    (1): BatchNorm2d(128, eps=1e-05, momentum=0.1, affine=True, track_running_stats=True)\n",
      "    (2): ReLU()\n",
      "    (3): Conv2d(128, 128, kernel_size=(3, 3), stride=(1, 1), padding=(1, 1))\n",
      "    (4): BatchNorm2d(128, eps=1e-05, momentum=0.1, affine=True, track_running_stats=True)\n",
      "    (5): ReLU()\n",
      "    (6): MaxPool2d(kernel_size=(2, 2), stride=(2, 2), padding=0, dilation=1, ceil_mode=False)\n",
      "  )\n",
      "  (block3): Sequential(\n",
      "    (0): Conv2d(128, 256, kernel_size=(3, 3), stride=(1, 1), padding=(1, 1))\n",
      "    (1): BatchNorm2d(256, eps=1e-05, momentum=0.1, affine=True, track_running_stats=True)\n",
      "    (2): ReLU()\n",
      "    (3): Conv2d(256, 256, kernel_size=(3, 3), stride=(1, 1), padding=(1, 1))\n",
      "    (4): BatchNorm2d(256, eps=1e-05, momentum=0.1, affine=True, track_running_stats=True)\n",
      "    (5): ReLU()\n",
      "    (6): Conv2d(256, 256, kernel_size=(3, 3), stride=(1, 1), padding=(1, 1))\n",
      "    (7): BatchNorm2d(256, eps=1e-05, momentum=0.1, affine=True, track_running_stats=True)\n",
      "    (8): ReLU()\n",
      "    (9): Conv2d(256, 256, kernel_size=(3, 3), stride=(1, 1), padding=(1, 1))\n",
      "    (10): BatchNorm2d(256, eps=1e-05, momentum=0.1, affine=True, track_running_stats=True)\n",
      "    (11): ReLU()\n",
      "    (12): MaxPool2d(kernel_size=(2, 2), stride=(2, 2), padding=0, dilation=1, ceil_mode=False)\n",
      "  )\n",
      "  (block4): Sequential(\n",
      "    (0): Conv2d(256, 512, kernel_size=(3, 3), stride=(1, 1), padding=(1, 1))\n",
      "    (1): BatchNorm2d(512, eps=1e-05, momentum=0.1, affine=True, track_running_stats=True)\n",
      "    (2): ReLU()\n",
      "    (3): Conv2d(512, 512, kernel_size=(3, 3), stride=(1, 1), padding=(1, 1))\n",
      "    (4): BatchNorm2d(512, eps=1e-05, momentum=0.1, affine=True, track_running_stats=True)\n",
      "    (5): ReLU()\n",
      "    (6): Conv2d(512, 512, kernel_size=(3, 3), stride=(1, 1), padding=(1, 1))\n",
      "    (7): BatchNorm2d(512, eps=1e-05, momentum=0.1, affine=True, track_running_stats=True)\n",
      "    (8): ReLU()\n",
      "    (9): Conv2d(512, 512, kernel_size=(3, 3), stride=(1, 1), padding=(1, 1))\n",
      "    (10): BatchNorm2d(512, eps=1e-05, momentum=0.1, affine=True, track_running_stats=True)\n",
      "    (11): ReLU()\n",
      "    (12): MaxPool2d(kernel_size=(2, 2), stride=(2, 2), padding=0, dilation=1, ceil_mode=False)\n",
      "  )\n",
      "  (block5): Sequential(\n",
      "    (0): Conv2d(512, 512, kernel_size=(3, 3), stride=(1, 1), padding=(1, 1))\n",
      "    (1): BatchNorm2d(512, eps=1e-05, momentum=0.1, affine=True, track_running_stats=True)\n",
      "    (2): ReLU()\n",
      "    (3): Conv2d(512, 512, kernel_size=(3, 3), stride=(1, 1), padding=(1, 1))\n",
      "    (4): BatchNorm2d(512, eps=1e-05, momentum=0.1, affine=True, track_running_stats=True)\n",
      "    (5): ReLU()\n",
      "    (6): Conv2d(512, 512, kernel_size=(3, 3), stride=(1, 1), padding=(1, 1))\n",
      "    (7): BatchNorm2d(512, eps=1e-05, momentum=0.1, affine=True, track_running_stats=True)\n",
      "    (8): ReLU()\n",
      "    (9): Conv2d(512, 512, kernel_size=(3, 3), stride=(1, 1), padding=(1, 1))\n",
      "    (10): BatchNorm2d(512, eps=1e-05, momentum=0.1, affine=True, track_running_stats=True)\n",
      "    (11): ReLU()\n",
      "    (12): MaxPool2d(kernel_size=(2, 2), stride=(2, 2), padding=0, dilation=1, ceil_mode=False)\n",
      "  )\n",
      "  (classifier): Sequential(\n",
      "    (0): Linear(in_features=512, out_features=4096, bias=True)\n",
      "    (1): ReLU()\n",
      "    (2): Dropout(p=0.5, inplace=False)\n",
      "    (3): Linear(in_features=4096, out_features=4096, bias=True)\n",
      "    (4): ReLU()\n",
      "    (5): Dropout(p=0.5, inplace=False)\n",
      "    (6): Linear(in_features=4096, out_features=10, bias=True)\n",
      "  )\n",
      ")\n",
      "(tensor([[ 0.2670,  0.0669,  0.3295, -0.0191,  0.2058, -0.0304, -0.3101,  0.1396,\n",
      "          0.0690, -0.0867]], grad_fn=<AddmmBackward0>), tensor([[0.1207, 0.0988, 0.1285, 0.0907, 0.1136, 0.0897, 0.0678, 0.1063, 0.0991,\n",
      "         0.0848]], grad_fn=<SoftmaxBackward0>))\n"
     ]
    }
   ],
   "source": [
    "net =  VGG19(10)\n",
    "print(net)\n",
    "print(net(torch.randn([1,3,32,32])))\n"
   ]
  },
  {
   "cell_type": "markdown",
   "metadata": {
    "id": "5qVcuRwIwlD8"
   },
   "source": [
    "**Define the Model and Optimizer:**\n",
    "\n",
    "Here, we use Adam optimizer with learning rate $0.001$."
   ]
  },
  {
   "cell_type": "code",
   "execution_count": null,
   "metadata": {
    "id": "Wgatqr7GuQ8Q"
   },
   "outputs": [],
   "source": [
    "NUM_EPOCHS = 15\n",
    "\n",
    "model = VGG19(num_classes=10)\n",
    "\n",
    "model = model.to(DEVICE)\n",
    "\n",
    "optimizer = torch.optim.Adam(model.parameters(), lr=0.001)"
   ]
  },
  {
   "cell_type": "code",
   "execution_count": null,
   "metadata": {
    "id": "zyoR52OLuVU4"
   },
   "outputs": [],
   "source": [
    "valid_loader = test_loader"
   ]
  },
  {
   "cell_type": "markdown",
   "metadata": {
    "id": "ltjmQBbJw5HT"
   },
   "source": [
    "**Start Training:**"
   ]
  },
  {
   "cell_type": "code",
   "execution_count": null,
   "metadata": {
    "colab": {
     "base_uri": "https://localhost:8080/"
    },
    "executionInfo": {
     "elapsed": 950370,
     "status": "ok",
     "timestamp": 1667372025730,
     "user": {
      "displayName": "Kede Ma",
      "userId": "03984196065012193056"
     },
     "user_tz": -480
    },
    "id": "e0PF8SapuQ4v",
    "outputId": "4aa56e27-8105-46df-b133-3d133a99f760"
   },
   "outputs": [
    {
     "name": "stdout",
     "output_type": "stream",
     "text": [
      "Epoch: 001/015 | Batch 000/782 | Cost: 2.3260\n",
      "Epoch: 001/015 | Batch 300/782 | Cost: 1.9064\n",
      "Epoch: 001/015 | Batch 600/782 | Cost: 1.8141\n",
      "Epoch: 001/015 Train Acc.: 28.69% | Validation Acc.: 28.83%\n",
      "Time elapsed: 1.11 min\n",
      "Epoch: 002/015 | Batch 000/782 | Cost: 1.8572\n",
      "Epoch: 002/015 | Batch 300/782 | Cost: 1.7062\n",
      "Epoch: 002/015 | Batch 600/782 | Cost: 1.5554\n",
      "Epoch: 002/015 Train Acc.: 33.61% | Validation Acc.: 33.30%\n",
      "Time elapsed: 2.15 min\n",
      "Epoch: 003/015 | Batch 000/782 | Cost: 2.0059\n",
      "Epoch: 003/015 | Batch 300/782 | Cost: 1.5630\n",
      "Epoch: 003/015 | Batch 600/782 | Cost: 1.4625\n",
      "Epoch: 003/015 Train Acc.: 44.97% | Validation Acc.: 44.77%\n",
      "Time elapsed: 3.20 min\n",
      "Epoch: 004/015 | Batch 000/782 | Cost: 1.2083\n",
      "Epoch: 004/015 | Batch 300/782 | Cost: 1.2118\n",
      "Epoch: 004/015 | Batch 600/782 | Cost: 1.0230\n",
      "Epoch: 004/015 Train Acc.: 53.75% | Validation Acc.: 52.99%\n",
      "Time elapsed: 4.26 min\n",
      "Epoch: 005/015 | Batch 000/782 | Cost: 1.1121\n",
      "Epoch: 005/015 | Batch 300/782 | Cost: 1.3405\n",
      "Epoch: 005/015 | Batch 600/782 | Cost: 1.2631\n",
      "Epoch: 005/015 Train Acc.: 59.85% | Validation Acc.: 58.29%\n",
      "Time elapsed: 5.31 min\n",
      "Epoch: 006/015 | Batch 000/782 | Cost: 1.1291\n",
      "Epoch: 006/015 | Batch 300/782 | Cost: 0.7033\n",
      "Epoch: 006/015 | Batch 600/782 | Cost: 0.9558\n",
      "Epoch: 006/015 Train Acc.: 69.39% | Validation Acc.: 66.89%\n",
      "Time elapsed: 6.36 min\n",
      "Epoch: 007/015 | Batch 000/782 | Cost: 0.8387\n",
      "Epoch: 007/015 | Batch 300/782 | Cost: 0.7834\n",
      "Epoch: 007/015 | Batch 600/782 | Cost: 0.7552\n",
      "Epoch: 007/015 Train Acc.: 72.37% | Validation Acc.: 69.44%\n",
      "Time elapsed: 7.42 min\n",
      "Epoch: 008/015 | Batch 000/782 | Cost: 0.5876\n",
      "Epoch: 008/015 | Batch 300/782 | Cost: 0.6530\n",
      "Epoch: 008/015 | Batch 600/782 | Cost: 0.8089\n",
      "Epoch: 008/015 Train Acc.: 72.76% | Validation Acc.: 69.46%\n",
      "Time elapsed: 8.48 min\n",
      "Epoch: 009/015 | Batch 000/782 | Cost: 0.7277\n",
      "Epoch: 009/015 | Batch 300/782 | Cost: 0.6877\n",
      "Epoch: 009/015 | Batch 600/782 | Cost: 0.5084\n",
      "Epoch: 009/015 Train Acc.: 73.18% | Validation Acc.: 70.52%\n",
      "Time elapsed: 9.53 min\n",
      "Epoch: 010/015 | Batch 000/782 | Cost: 0.7072\n",
      "Epoch: 010/015 | Batch 300/782 | Cost: 0.7369\n",
      "Epoch: 010/015 | Batch 600/782 | Cost: 0.4535\n",
      "Epoch: 010/015 Train Acc.: 84.52% | Validation Acc.: 79.10%\n",
      "Time elapsed: 10.58 min\n",
      "Epoch: 011/015 | Batch 000/782 | Cost: 0.6404\n",
      "Epoch: 011/015 | Batch 300/782 | Cost: 0.4957\n",
      "Epoch: 011/015 | Batch 600/782 | Cost: 0.2688\n",
      "Epoch: 011/015 Train Acc.: 85.81% | Validation Acc.: 79.86%\n",
      "Time elapsed: 11.63 min\n",
      "Epoch: 012/015 | Batch 000/782 | Cost: 0.3892\n",
      "Epoch: 012/015 | Batch 300/782 | Cost: 0.3821\n",
      "Epoch: 012/015 | Batch 600/782 | Cost: 0.6254\n",
      "Epoch: 012/015 Train Acc.: 85.49% | Validation Acc.: 78.61%\n",
      "Time elapsed: 12.67 min\n",
      "Epoch: 013/015 | Batch 000/782 | Cost: 0.1979\n",
      "Epoch: 013/015 | Batch 300/782 | Cost: 0.3754\n",
      "Epoch: 013/015 | Batch 600/782 | Cost: 0.4589\n",
      "Epoch: 013/015 Train Acc.: 88.88% | Validation Acc.: 81.41%\n",
      "Time elapsed: 13.73 min\n",
      "Epoch: 014/015 | Batch 000/782 | Cost: 0.3702\n",
      "Epoch: 014/015 | Batch 300/782 | Cost: 0.2540\n",
      "Epoch: 014/015 | Batch 600/782 | Cost: 0.3637\n",
      "Epoch: 014/015 Train Acc.: 91.00% | Validation Acc.: 82.64%\n",
      "Time elapsed: 14.78 min\n",
      "Epoch: 015/015 | Batch 000/782 | Cost: 0.3756\n",
      "Epoch: 015/015 | Batch 300/782 | Cost: 0.2011\n",
      "Epoch: 015/015 | Batch 600/782 | Cost: 0.2527\n",
      "Epoch: 015/015 Train Acc.: 91.81% | Validation Acc.: 82.44%\n",
      "Time elapsed: 15.82 min\n",
      "Total Training Time: 15.82 min\n"
     ]
    }
   ],
   "source": [
    "\n",
    "def compute_accuracy_and_loss(model, data_loader, device):\n",
    "    correct_pred, num_examples = 0, 0\n",
    "    cross_entropy = 0.\n",
    "    for i, (features, targets) in enumerate(data_loader):\n",
    "            \n",
    "        features = features.to(device)\n",
    "        targets = targets.to(device)\n",
    "\n",
    "        logits, probas = model(features)\n",
    "        cross_entropy += F.cross_entropy(logits, targets).item()\n",
    "        _, predicted_labels = torch.max(probas, 1)\n",
    "        num_examples += targets.size(0)\n",
    "        correct_pred += (predicted_labels == targets).sum()\n",
    "    return correct_pred.float()/num_examples * 100, cross_entropy/num_examples\n",
    "    \n",
    "\n",
    "start_time = time.time()\n",
    "train_acc_lst, valid_acc_lst = [], []\n",
    "train_loss_lst, valid_loss_lst = [], []\n",
    "\n",
    "for epoch in range(NUM_EPOCHS):\n",
    "    \n",
    "    model.train()\n",
    "    \n",
    "    for batch_idx, (features, targets) in enumerate(train_loader):\n",
    "    \n",
    "        ### PREPARE MINIBATCH\n",
    "        features = features.to(DEVICE)\n",
    "        targets = targets.to(DEVICE)\n",
    "            \n",
    "        ### FORWARD AND BACK PROP\n",
    "        logits, probas = model(features)\n",
    "        cost = F.cross_entropy(logits, targets)\n",
    "        optimizer.zero_grad()\n",
    "        \n",
    "        cost.backward()\n",
    "        \n",
    "        ### UPDATE MODEL PARAMETERS\n",
    "        optimizer.step()\n",
    "        \n",
    "        ### LOGGING\n",
    "        if not batch_idx % 300:\n",
    "            print (f'Epoch: {epoch+1:03d}/{NUM_EPOCHS:03d} | '\n",
    "                   f'Batch {batch_idx:03d}/{len(train_loader):03d} |' \n",
    "                   f' Cost: {cost:.4f}')\n",
    "\n",
    "    # no need to build the computation graph for backprop when computing accuracy\n",
    "    model.eval()\n",
    "    with torch.set_grad_enabled(False):\n",
    "        train_acc, train_loss = compute_accuracy_and_loss(\n",
    "                                    model, train_loader, device=DEVICE)\n",
    "        valid_acc, valid_loss = compute_accuracy_and_loss(\n",
    "                                    model, valid_loader, device=DEVICE)\n",
    "        train_acc_lst.append(train_acc)\n",
    "        valid_acc_lst.append(valid_acc)\n",
    "        train_loss_lst.append(train_loss)\n",
    "        valid_loss_lst.append(valid_loss)\n",
    "        print(f'Epoch: {epoch+1:03d}/{NUM_EPOCHS:03d} \\\n",
    "                Train Acc.: {train_acc:.2f}%'\n",
    "              f' | Validation Acc.: {valid_acc:.2f}%')\n",
    "        \n",
    "    elapsed = (time.time() - start_time)/60\n",
    "    print(f'Time elapsed: {elapsed:.2f} min')\n",
    "  \n",
    "elapsed = (time.time() - start_time)/60\n",
    "print(f'Total Training Time: {elapsed:.2f} min')"
   ]
  },
  {
   "cell_type": "markdown",
   "metadata": {
    "id": "rSWRmzO5w3Az"
   },
   "source": [
    "**Plot the Training Loss and Validation Loss:**"
   ]
  },
  {
   "cell_type": "code",
   "execution_count": null,
   "metadata": {
    "colab": {
     "base_uri": "https://localhost:8080/",
     "height": 279
    },
    "executionInfo": {
     "elapsed": 429,
     "status": "ok",
     "timestamp": 1667372037231,
     "user": {
      "displayName": "Kede Ma",
      "userId": "03984196065012193056"
     },
     "user_tz": -480
    },
    "id": "bn4GQlMYudHM",
    "outputId": "ffe2d59e-447e-40f5-f05c-3ea21927665c"
   },
   "outputs": [
    {
     "data": {
      "image/png": "[encoded data removed]",
      "text/plain": [
       "<Figure size 432x288 with 1 Axes>"
      ]
     },
     "metadata": {},
     "output_type": "display_data"
    }
   ],
   "source": [
    "plt.plot(range(1, NUM_EPOCHS+1), train_loss_lst, label='Training loss')\n",
    "plt.plot(range(1, NUM_EPOCHS+1), valid_loss_lst, label='Validation loss')\n",
    "plt.legend(loc='upper right')\n",
    "plt.ylabel('Cross entropy')\n",
    "plt.xlabel('Epoch')\n",
    "plt.show()\n"
   ]
  },
  {
   "cell_type": "markdown",
   "metadata": {
    "id": "yUJUd9wIxQ0q"
   },
   "source": [
    "**Test Phase and See the Model Performance**"
   ]
  },
  {
   "cell_type": "code",
   "execution_count": null,
   "metadata": {
    "colab": {
     "base_uri": "https://localhost:8080/"
    },
    "executionInfo": {
     "elapsed": 3366,
     "status": "ok",
     "timestamp": 1667372042693,
     "user": {
      "displayName": "Kede Ma",
      "userId": "03984196065012193056"
     },
     "user_tz": -480
    },
    "id": "TPutoCfVukb4",
    "outputId": "19ac552f-45a5-4135-e9d6-b1142ad2d90c"
   },
   "outputs": [
    {
     "name": "stdout",
     "output_type": "stream",
     "text": [
      "Test accuracy: 82.44%\n"
     ]
    }
   ],
   "source": [
    "model.eval()\n",
    "with torch.set_grad_enabled(False): # save memory during inference\n",
    "    test_acc, test_loss = compute_accuracy_and_loss(model, test_loader, DEVICE)\n",
    "    print(f'Test accuracy: {test_acc:.2f}%')\n",
    "\n"
   ]
  },
  {
   "cell_type": "code",
   "execution_count": null,
   "metadata": {
    "colab": {
     "base_uri": "https://localhost:8080/",
     "height": 314
    },
    "executionInfo": {
     "elapsed": 1661,
     "status": "ok",
     "timestamp": 1667372046058,
     "user": {
      "displayName": "Kede Ma",
      "userId": "03984196065012193056"
     },
     "user_tz": -480
    },
    "id": "IxpYmdoWudAQ",
    "outputId": "e4a7b87e-eebc-46cb-d5d5-5a0d1b359f06"
   },
   "outputs": [
    {
     "name": "stdout",
     "output_type": "stream",
     "text": [
      "tensor([6, 7, 2, 2, 1, 3, 8, 6], device='cuda:0')\n"
     ]
    },
    {
     "data": {
      "image/png": "[encoded data removed]",
      "text/plain": [
       "<Figure size 432x288 with 6 Axes>"
      ]
     },
     "metadata": {},
     "output_type": "display_data"
    }
   ],
   "source": [
    "from PIL import Image\n",
    "import matplotlib.pyplot as plt\n",
    "for features, targets in train_loader:\n",
    "    break\n",
    "\n",
    "_, predictions = model.forward(features[:8].to(DEVICE))\n",
    "predictions = torch.argmax(predictions, dim=1)\n",
    "print(predictions)\n",
    "\n",
    "features = features[:7]\n",
    "fig = plt.figure()\n",
    "tname = ['airplane', 'automobile', 'bird', 'cat', 'deer', \n",
    "         'dog', 'frog', 'horse', 'ship', 'truck']\n",
    "# print(features[i].size())\n",
    "for i in range(6):\n",
    "    plt.subplot(2,3,i+1)\n",
    "    plt.tight_layout()\n",
    "    tmp = features[i]\n",
    "    plt.imshow(np.transpose(tmp, (1, 2, 0)))\n",
    "    plt.title(\"Actual value: {}\".format(tname[targets[i]])+\n",
    "              '\\n'+\"Prediction value: {}\".format(tname[predictions[i]]),size=10)\n",
    "    \n",
    "#     plt.title(\"Prediction value: {}\".format(tname[targets[i]]))\n",
    "plt.show()\n"
   ]
  }
 ],
 "metadata": {
  "accelerator": "GPU",
  "colab": {
   "collapsed_sections": [],
   "name": "",
   "version": ""
  },
  "gpuClass": "standard",
  "kernelspec": {
   "display_name": "Python 3 (ipykernel)",
   "language": "python",
   "name": "python3"
  },
  "language_info": {
   "codemirror_mode": {
    "name": "ipython",
    "version": 3
   },
   "file_extension": ".py",
   "mimetype": "text/x-python",
   "name": "python",
   "nbconvert_exporter": "python",
   "pygments_lexer": "ipython3",
   "version": "3.7.11"
  }
 },
 "nbformat": 4,
 "nbformat_minor": 1
}
