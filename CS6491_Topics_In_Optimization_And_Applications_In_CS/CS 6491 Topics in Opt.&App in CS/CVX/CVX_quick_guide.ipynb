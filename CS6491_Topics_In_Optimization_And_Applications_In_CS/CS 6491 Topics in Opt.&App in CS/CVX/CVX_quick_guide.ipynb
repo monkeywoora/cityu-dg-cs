{
 "cells": [
  {
   "cell_type": "markdown",
   "metadata": {},
   "source": [
    "# A Quick Guide on CVXPY\n",
    "\n",
    "**Step 1:** Install CVX (http://cvxr.com/cvx  (Links to an external site.)) You can choose to use\n",
    "any programming platform (Matlab, Julia, Python, R, C etc). Information on cvxpy can be found here (https://www.cvxpy.org/index.html#)\n",
    "\n",
    "**Step 2:** Read the user manual to get an idea of how to setup and solve optimization problems.  \n",
    "\n",
    "**Step 3:** Try the following examnple on solving least square problem. Make sure that you can solve it and get correct answer."
   ]
  },
  {
   "cell_type": "markdown",
   "metadata": {},
   "source": [
    "## Install\n",
    "### Pip\n",
    "(Windows only) Download the Visual Studio build tools for Python 3 (instructions).\n",
    "\n",
    "(macOS only) Install the Xcode command line tools.\n",
    "\n",
    "(optional) Create and activate a virtual environment.\n",
    "\n",
    "Install CVXPY using pip:\n",
    "\n",
    "> ! pip install cvxpy\n",
    "\n",
    "### Conda\n",
    "conda is a system for package and environment management.\n",
    "\n",
    "(Windows only) Download the Visual Studio build tools for Python 3.\n",
    "\n",
    "Install conda.\n",
    "\n",
    "Create a new conda environment,\n",
    "\n",
    "> conda create --name cvxpy_env\n",
    "\n",
    "> conda activate cvxpy_env\n",
    "\n",
    "\n",
    "Install cvxpy from conda-forge\n",
    "\n",
    "> conda install -c conda-forge cvxpy"
   ]
  },
  {
   "cell_type": "markdown",
   "metadata": {},
   "source": [
    "## Example\n",
    "\n",
    "In the following code, we solve a least-squares problem with CVXPY.\n",
    "\n",
    "$\\underset{x}{\\operatorname{minimize}} \\quad\\|A x-b\\|_2^2$\n",
    "\n",
    "$A \\in \\mathcal{R}^{m \\times n}$ and $b \\in \\mathcal{R}^m$ are problem data and $x \\in \\mathcal{R}^n$ is the optimization variable."
   ]
  },
  {
   "cell_type": "code",
   "execution_count": 14,
   "metadata": {},
   "outputs": [
    {
     "name": "stdout",
     "output_type": "stream",
     "text": [
      "\n",
      "The optimal value is 7.005909828287485\n",
      "The optimal x is\n",
      "[ 0.17492418 -0.38102551  0.34732251  0.0173098  -0.0845784  -0.08134019\n",
      "  0.293119    0.27019762  0.17493179 -0.23953449  0.64097935 -0.41633637\n",
      "  0.12799688  0.1063942  -0.32158411]\n",
      "The norm of the residual is  2.6468679280023557\n"
     ]
    }
   ],
   "source": [
    "\n",
    "import cvxpy as cp\n",
    "import numpy as np\n",
    "# Generate data.\n",
    "m = 20\n",
    "n = 15\n",
    "np.random.seed(1)\n",
    "A = np.random.randn(m, n)\n",
    "b = np.random.randn(m)\n",
    "# Define and solve the CVXPY problem.\n",
    "x = cp.Variable(n)\n",
    "cost = cp.sum_squares(A@x - b)\n",
    "prob = cp.Problem(cp.Minimize(cost))\n",
    "prob.solve()\n",
    "# Print result.\n",
    "print(\"\\nThe optimal value is\", prob.value)\n",
    "print(\"The optimal x is\")\n",
    "print(x.value)\n",
    "print(\"The norm of the residual is \", cp.norm(A@x - b, p=2).value)"
   ]
  }
 ],
 "metadata": {
  "kernelspec": {
   "display_name": "Python 3",
   "language": "python",
   "name": "python3"
  },
  "language_info": {
   "codemirror_mode": {
    "name": "ipython",
    "version": 3
   },
   "file_extension": ".py",
   "mimetype": "text/x-python",
   "name": "python",
   "nbconvert_exporter": "python",
   "pygments_lexer": "ipython3",
   "version": "3.8.5"
  }
 },
 "nbformat": 4,
 "nbformat_minor": 2
}
