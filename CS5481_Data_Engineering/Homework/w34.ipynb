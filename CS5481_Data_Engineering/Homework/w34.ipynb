{
 "cells": [
  {
   "cell_type": "markdown",
   "id": "4aefbdd0-e835-4d86-8b90-ff55ed95e4c7",
   "metadata": {},
   "source": [
    "# Music Streaming Data Analysis\n",
    "## dataset: https://www.kaggle.com/datasets/yamaerenay/spotify-dataset-19212020-600k-tracks"
   ]
  },
  {
   "cell_type": "code",
   "execution_count": 4,
   "id": "5de391ce-8d14-4f3e-bda3-78b112f25e3c",
   "metadata": {},
   "outputs": [],
   "source": [
    "import pandas as pd\n",
    "import numpy as np\n",
    "import matplotlib.pyplot as plt\n",
    "import seaborn as sns\n",
    "import re\n",
    "from datetime import datetime\n",
    "\n",
    "# Load data\n",
    "tracks_df = pd.read_csv('tracks.csv')\n",
    "artists_df = pd.read_csv('artists.csv')"
   ]
  },
  {
   "cell_type": "code",
   "execution_count": null,
   "id": "7d4a5546-4b31-405e-9073-d7df44e394f4",
   "metadata": {},
   "outputs": [],
   "source": [
    "def clean_track_data(df):\n",
    "    \"\"\"\n",
    "    Task: Clean the tracks dataset by:\n",
    "    1. Handling missing values\n",
    "    2. Removing duplicates\n",
    "    3. Converting data types\n",
    "    4. Creating derived features\n",
    "    \"\"\"\n",
    "    # add your code\n",
    "    return df\n",
    "cleaned_tracks = clean_track_data(tracks_df)\n"
   ]
  },
  {
   "cell_type": "code",
   "execution_count": null,
   "id": "58aed262-583e-480c-93cf-468b86e6fbe4",
   "metadata": {},
   "outputs": [],
   "source": [
    "def find_solo_artists(artist_name):\n",
    "    \"\"\"\n",
    "    Task: Find artist names that don't contain collaborations\n",
    "    - Should match: \"Ed Sheeran\", \"Taylor Swift\"\n",
    "    - Should not match: \"Ed Sheeran feat. Taylor Swift\", \"BTS & Coldplay\"\n",
    "    \"\"\"\n",
    "    # add your code\n",
    "    \n",
    "    return bool(re.match(pattern, str(artist_name)))\n",
    "\n",
    "# Test the function\n",
    "test_artists = [\n",
    "    \"Ed Sheeran\",\n",
    "    \"BTS & Coldplay\",\n",
    "    \"Taylor Swift feat. Ed Sheeran\",\n",
    "    \"Madonna\"\n",
    "]"
   ]
  },
  {
   "cell_type": "code",
   "execution_count": null,
   "id": "3d1ff102-f44d-4278-a693-102747d3c995",
   "metadata": {},
   "outputs": [],
   "source": [
    "def extract_featured_artists(track_name):\n",
    "    \"\"\"\n",
    "    Task: Extract featured artists from track names\n",
    "    - Input: \"Love Yourself (feat. Justin Bieber)\"\n",
    "    - Output: \"Justin Bieber\"\n",
    "    \"\"\"\n",
    "    # add your code\n",
    "    return match.group(1) if match else None\n",
    "\n",
    "test_tracks = [\n",
    "    \"Love Yourself (feat. Justin Bieber)\",\n",
    "    \"Stay With Me ft. Sam Smith\",\n",
    "    \"No Featured Artist\",\n",
    "    \"Perfect (featuring Ed Sheeran)\"\n",
    "]\n"
   ]
  },
  {
   "cell_type": "code",
   "execution_count": null,
   "id": "749379ab-e027-4e5e-82b5-8f6a894b1a87",
   "metadata": {},
   "outputs": [],
   "source": [
    "def create_features(df):\n",
    "    \"\"\"\n",
    "    Task: Create new features:\n",
    "    1. Duration categories\n",
    "    2. Popularity bins\n",
    "    3. Audio feature combinations\n",
    "    4. Text-based features\n",
    "    \"\"\"\n",
    "    #duration_category:'Very Short', 'Short', 'Medium', 'Long', 'Very Long'\n",
    "    #popularity_level:'Very Low', 'Low', 'Medium','High', 'Very High'\n",
    "    #energy_dance_ratio:energy / danceability\n",
    "    \n",
    "    return df\n",
    "\n",
    "cleaned_tracks = create_features(cleaned_tracks)"
   ]
  },
  {
   "cell_type": "code",
   "execution_count": null,
   "id": "353776b6-7a20-4b9c-a0d8-2dced0fd1ea8",
   "metadata": {},
   "outputs": [],
   "source": [
    "def plot_temporal_trends(df):\n",
    "    \"\"\"\n",
    "    Task: Create time-based visualizations:\n",
    "    1. Feature trends over decades\n",
    "    2. Seasonal patterns\n",
    "    3. Evolution of audio features\n",
    "    \"\"\"\n",
    "    \n",
    "    \n",
    "    return fig\n",
    "\n",
    "temporal_fig = plot_temporal_trends(cleaned_tracks)"
   ]
  },
  {
   "cell_type": "code",
   "execution_count": null,
   "id": "f3c39e03-2f23-4b39-bad2-a8c2fd737fee",
   "metadata": {},
   "outputs": [],
   "source": [
    "def plot_feature_distributions(df):\n",
    "    \"\"\"\n",
    "    Task: Create distribution visualizations:\n",
    "    1. Multiple feature distributions\n",
    "    2. Popularity distribution by category\n",
    "    3. Audio feature relationships\n",
    "    \"\"\"\n",
    "    return fig\n",
    "\n",
    "dist_fig = plot_feature_distributions(cleaned_tracks)\n"
   ]
  },
  {
   "cell_type": "code",
   "execution_count": null,
   "id": "db7e0a13-676e-490d-8457-c8becbd2b6ec",
   "metadata": {},
   "outputs": [],
   "source": [
    "def plot_correlation_analysis(df):\n",
    "    \"\"\"\n",
    "    Task: Create correlation visualizations:\n",
    "    1. Feature correlation heatmap\n",
    "    2. Scatter plot matrix\n",
    "    3. Specific feature relationships\n",
    "    \"\"\"\n",
    "     return plt.gcf()\n",
    "    \n",
    "corr_fig = plot_correlation_analysis(cleaned_tracks)\n"
   ]
  },
  {
   "cell_type": "markdown",
   "id": "a30022dc-dd3f-491b-8a7b-d6de9755f85d",
   "metadata": {},
   "source": [
    "### Data Processing:\n",
    "- Filter artists by genre\n",
    "- Calculate yearly popularity\n",
    "- Normalize values between 0-1\n",
    "### Polygon Creation:\n",
    "- Points need to form a closed shape\n",
    "- Include base points\n",
    "- Use proper ordering\n",
    "### Key Concepts:\n",
    "- Genre stacking (base_y)\n",
    "- Time progression (x-axis)\n",
    "- Popularity representation (height)"
   ]
  },
  {
   "cell_type": "code",
   "execution_count": null,
   "id": "6af60b80-1c30-4f58-a1b3-a4bc4a13491c",
   "metadata": {},
   "outputs": [],
   "source": [
    "def visualize_genre_evolution(tracks_df, artists_df):\n",
    "    # Convert genres and dates\n",
    "    artists_df['genres'] = artists_df['genres'].apply(ast.literal_eval)\n",
    "    tracks_df['year'] = pd.to_datetime(tracks_df['release_date']).dt.year\n",
    "    \n",
    "    # TODO: Create a dictionary to count genres\n",
    "    genre_count = {}\n",
    "    \n",
    "    # TODO: Get top 5 genres\n",
    "  \n",
    "    top_genres = ...\n",
    "    \n",
    "    # Create plot\n",
    "    fig, ax = plt.subplots(figsize=(12, 8))\n",
    "    # Create color scheme\n",
    "    colors = plt.cm.viridis(np.linspace(0, 1, len(top_genres)))\n",
    "    \n",
    "    base_y = 0\n",
    "    for idx, genre in enumerate(top_genres):\n",
    "        # TODO: Get artists for this genre\n",
    "        genre_artists = ...\n",
    "\n",
    "        # TODO: Calculate popularity by year\n",
    "        genre_by_year = {}\n",
    "\n",
    "        # TODO: Create polygon points\n",
    "        points = ...\n",
    "\n",
    "        # TODO: Add polygon to plot\n",
    "\n",
    "        # Add label\n",
    "        mid_year = ...\n",
    "        ax.text(...)\n",
    "\n",
    "        base_y += 1\n",
    "        \n",
    "        # Set plot properties\n",
    "    ax.set_xlim(...)\n",
    "    ax.set_ylim(...)\n",
    "    plt.xlabel('Year')\n",
    "    return fig\n",
    "\n",
    "# Create visualization\n",
    "genre_fig = visualize_genre_evolution(tracks_df, artists_df)\n",
    "plt.show()\n",
    "    "
   ]
  }
 ],
 "metadata": {
  "kernelspec": {
   "display_name": "good",
   "language": "python",
   "name": "good"
  },
  "language_info": {
   "codemirror_mode": {
    "name": "ipython",
    "version": 3
   },
   "file_extension": ".py",
   "mimetype": "text/x-python",
   "name": "python",
   "nbconvert_exporter": "python",
   "pygments_lexer": "ipython3",
   "version": "3.10.4"
  }
 },
 "nbformat": 4,
 "nbformat_minor": 5
}
