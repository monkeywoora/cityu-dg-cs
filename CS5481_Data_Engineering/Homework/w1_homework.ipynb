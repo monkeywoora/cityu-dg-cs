{
 "cells": [
  {
   "cell_type": "markdown",
   "metadata": {},
   "source": [
    "# Part 1: Web Scraping\n",
    "## Web Scraping\n",
    "### Task: Scrap the following information from IMDb Top 250 movies:\n",
    "\n",
    "#### 1. Name\n",
    "#### 2. Rating\n",
    "#### 3. Number of votes\n",
    "#### 4. Release year\n",
    "#### 5. Country/Region\n",
    "#### 6. Genre"
   ]
  },
  {
   "cell_type": "code",
   "execution_count": null,
   "metadata": {
    "collapsed": true
   },
   "outputs": [],
   "source": [
    "# Hint code\n",
    "import requests\n",
    "from bs4 import BeautifulSoup\n",
    "import pandas as pd\n",
    "import time\n",
    "\n",
    "def get_movies(url):\n",
    "    headers = {'User-Agent': 'Mozilla/5.0 (Windows NT 10.0; Win64; x64) AppleWebKit/537.36'}\n",
    "    response = requests.get(url, headers=headers)\n",
    "    soup = BeautifulSoup(response.text, 'html.parser')\n",
    "    # Get movie list\n",
    "    movie_list = soup.find_all('div', class_='lister-item')\n",
    "    # Parse data..."
   ]
  },
  {
   "cell_type": "markdown",
   "metadata": {},
   "source": [
    "# Part 2: Basic Data Analysis Tasks\n",
    "\n",
    "## Data Cleaning and Statistics\n",
    "### Task: Calculate the average rating of all movies and find the top 5 highest-rated movies."
   ]
  },
  {
   "cell_type": "code",
   "execution_count": null,
   "metadata": {
    "collapsed": true
   },
   "outputs": [],
   "source": [
    "# Hint code\n",
    "df = pd.read_csv('imdb_movies.csv')\n",
    "# Calculate mean rating\n",
    "mean_rating = ...\n",
    "# Find top 5 movies\n",
    "top_5 = ..."
   ]
  },
  {
   "cell_type": "markdown",
   "metadata": {},
   "source": [
    "## Decade Analysis\n",
    "### Task: Group movies by decades (1990s, 2000s, 2010s, etc.) and calculate the number of movies and average rating for each decade.\n"
   ]
  },
  {
   "cell_type": "code",
   "execution_count": null,
   "metadata": {
    "collapsed": true
   },
   "outputs": [],
   "source": [
    "# Hint code\n",
    "df['decade'] = (df['year'] // 10) * 10\n",
    "decade_stats = ..."
   ]
  },
  {
   "cell_type": "markdown",
   "metadata": {},
   "source": [
    "## Genre Analysis\n",
    "### Task: Count the number of movies in each genre (note that a movie can have multiple genres)."
   ]
  },
  {
   "cell_type": "code",
   "execution_count": null,
   "metadata": {
    "collapsed": true
   },
   "outputs": [],
   "source": [
    "# Hint code\n",
    "# Split genre string\n",
    "genres = df['genre'].str.split(',')\n",
    "# Count each genre\n",
    "genre_counts = ..."
   ]
  },
  {
   "cell_type": "markdown",
   "metadata": {},
   "source": [
    "## Country Analysis\n",
    "### Task: Find the top three countries with the largest number of movies and calculate their average ratings."
   ]
  },
  {
   "cell_type": "code",
   "execution_count": null,
   "metadata": {
    "collapsed": true
   },
   "outputs": [],
   "source": [
    "# Hint code\n",
    "country_stats = df.groupby('country').agg({\n",
    "    'title': 'count',\n",
    "    'rating': 'mean'\n",
    "})"
   ]
  },
  {
   "cell_type": "markdown",
   "metadata": {},
   "source": [
    "## Correlation Analysis\n",
    "### Task: Analyze the correlation between movie ratings and number of votes, and create a scatter plot."
   ]
  },
  {
   "cell_type": "code",
   "execution_count": null,
   "metadata": {
    "collapsed": true
   },
   "outputs": [],
   "source": [
    "# Hint code\n",
    "import matplotlib.pyplot as plt\n",
    "correlation = df['rating'].corr(df['votes'])\n",
    "plt.scatter(...)"
   ]
  },
  {
   "cell_type": "markdown",
   "metadata": {},
   "source": [
    "## I encourage to attempt each task independently before referring to the hint code. Each task can be extended further, such as adding more detailed analysis or improving visualizations."
   ]
  },
  {
   "cell_type": "code",
   "execution_count": null,
   "metadata": {
    "collapsed": true
   },
   "outputs": [],
   "source": []
  }
 ],
 "metadata": {
  "kernelspec": {
   "display_name": "Python 3",
   "language": "python",
   "name": "python3"
  },
  "language_info": {
   "codemirror_mode": {
    "name": "ipython",
    "version": 3
   },
   "file_extension": ".py",
   "mimetype": "text/x-python",
   "name": "python",
   "nbconvert_exporter": "python",
   "pygments_lexer": "ipython3",
   "version": "3.6.1"
  }
 },
 "nbformat": 4,
 "nbformat_minor": 5
}
